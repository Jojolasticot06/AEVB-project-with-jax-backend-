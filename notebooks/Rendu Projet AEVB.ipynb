{
 "cells": [
  {
   "cell_type": "markdown",
   "metadata": {},
   "source": [
    "MAURY Jocelyn N°2183813"
   ]
  },
  {
   "cell_type": "markdown",
   "metadata": {},
   "source": [
    "# Projet AEVB \n",
    "\n",
    "Ce rendu s'inscrit dans le cadre du développement d'un package python permettant la création d'un réseau de neuronnes de type AEVB. De plus, ce réseau de neurones utilisera un backend JAX afin d'être plus performant. \n",
    "\n",
    "Le processus de développement s'est déroulé en 3 étapes : \n",
    "\n",
    "1. Etat de l'art\n",
    "\n",
    "    a. Inférence variationnelle \n",
    "    \n",
    "    b. Autoencoder variationnel bayésien \n",
    "\n",
    "2. Création de l'architecture de l'AEVB sous python en OOP\n",
    "\n",
    "3. Critiques et ouverture"
   ]
  },
  {
   "cell_type": "markdown",
   "metadata": {},
   "source": [
    "Vous trouvez la première partie dans le notebook Analayse des articles.ipynb. Ensuite, le notebook module_AEVB détaillera la mise en place de l'AEVB en OOP avec un backend JAX. Enfin les résultats du modèle, ses limites ainsi que mes projets d'application seront discutés dans ce notebook. "
   ]
  },
  {
   "cell_type": "markdown",
   "metadata": {},
   "source": [
    "# Critiques \n",
    "\n",
    "Le modèle fonctionne bien. Il permet d'encoder et décoder des images de manière performante.\n",
    "\n",
    "Je note plusieurs améliorations que je pourrais apporter à ce projet. Tout d'abord, je pourrais créer un module qui serait sous forme de package. Cela permettrait de clairement différencier les classes. Ensuite, je pourrais davantage amélioré mon code pour qu'il s'adapte directement et plus facielement aux données qui lui sont transmises (dimensions, types...) en mettant à jour les paramètres et les fonctions (de coût notamment). De plus, je pourrais davantage tirer parti de JAX si j'en avais une plus grande maitrise. Les principaux outils et avantages de JAX ne sont pas utilisés dans mon code. C'est notamment la compilation just in time (JIT), aisni que la parallélisation (vmap par exemple). Pour finir, il serait intéressant de réliser du clustering des données à partir de leurs projection dans l'espace latent. "
   ]
  },
  {
   "cell_type": "markdown",
   "metadata": {},
   "source": [
    "# Ouverture \n",
    "\n",
    "Le projet à été très intéressant. J'ai énormément appris sur la théorie de l'inférence variationnel. J'ai également pu améliorer mes compétences d'analyse et de compréhension mathématiques. Il me reste encore de nombreuses pistes à découvrir et beaucoup de questions encore sans réponse. Donc je suis grandement motivé à continuer à travailler ce sujet. \n",
    "\n",
    "Par ailleurs, j'ai découvert le fonctionnement des réseaux de neurones d'un point de vue pratique. Je connaissans les grandes lignes de la théorie mais je n'avais jamais essayer d'en coder un. Cela a été l'ocassion d'en redécouvrir la structure et le fonctionnement. De plus, j'ai pu m'initier à Jax en consultant les nombreuses ressources sur le sujet. Je pense que c'est un module qui a de l'avenir. Par conséquent, je vais pouvoir continuer de m'y intéresser et constuire une connaissance et un savoir-faire solide dans le domaine. \n",
    "\n",
    "Etant très motivé par ce projet, j'aimerai le poursuivre pour en faire une version plus personnelle et plus aboutie. Je souhaiterai améliorer la partie backend (JAX), ainsi que la partie OOP (python et modularité de l'AEVB). Ensuite, j'aimerai également en améliorer les fonctionnalitép pour créer un package à la fois pratique et éducatif. Enfin, j'aimerai explorer les champs d'application détaillé précédemment pour en étudier la faisabilité. "
   ]
  }
 ],
 "metadata": {
  "language_info": {
   "name": "python"
  }
 },
 "nbformat": 4,
 "nbformat_minor": 2
}
